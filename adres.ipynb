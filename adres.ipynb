{
  "nbformat": 4,
  "nbformat_minor": 0,
  "metadata": {
    "colab": {
      "name": "adres.ipynb",
      "provenance": [],
      "collapsed_sections": [],
      "authorship_tag": "ABX9TyOecPZG4qFdV4akmYfgBhuG",
      "include_colab_link": true
    },
    "kernelspec": {
      "name": "python3",
      "display_name": "Python 3"
    },
    "language_info": {
      "name": "python"
    }
  },
  "cells": [
    {
      "cell_type": "markdown",
      "metadata": {
        "id": "view-in-github",
        "colab_type": "text"
      },
      "source": [
        "<a href=\"https://colab.research.google.com/github/edamulayimoglu/hu-bby162-2021/blob/main/adres.ipynb\" target=\"_parent\"><img src=\"https://colab.research.google.com/assets/colab-badge.svg\" alt=\"Open In Colab\"/></a>"
      ]
    },
    {
      "cell_type": "code",
      "metadata": {
        "colab": {
          "base_uri": "https://localhost:8080/"
        },
        "id": "UaFaHe0VHf4e",
        "outputId": "a23f5a63-ec21-4e11-fce6-cb623263eb51"
      },
      "source": [
        "dosya = \"/content/adres.txt\"\n",
        "f = open(dosya, 'a')\n",
        "bilgi = input(\"Aranan Bilgiler \")\n",
        "f.write (bilgi + \"\\n\")\n",
        "f.close()\n",
        "f = open(dosya, 'r')\n",
        "for line in f. readlines():\n",
        "  print(line)\n",
        "f.close()"
      ],
      "execution_count": 27,
      "outputs": [
        {
          "output_type": "stream",
          "text": [
            "Aranan Bilgiler edamulayimoglu7@gmail.com\n",
            "Eda\n",
            "\n",
            "Mülayımoğlu\n",
            "\n",
            "edamulayimoglu7@gmail.com\n",
            "\n"
          ],
          "name": "stdout"
        }
      ]
    },
    {
      "cell_type": "code",
      "metadata": {
        "id": "oSj7kIniJTYo"
      },
      "source": [
        ""
      ],
      "execution_count": null,
      "outputs": []
    }
  ]
}