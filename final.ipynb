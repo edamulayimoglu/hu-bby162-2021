{
  "nbformat": 4,
  "nbformat_minor": 0,
  "metadata": {
    "colab": {
      "name": "final.ipynb",
      "provenance": [],
      "collapsed_sections": [],
      "mount_file_id": "1uPucWHznD8iZHzbYGeMmpDE_zkuPeBgJ",
      "authorship_tag": "ABX9TyMNAmL8S9sqHXOSp3Q90sP6",
      "include_colab_link": true
    },
    "kernelspec": {
      "name": "python3",
      "display_name": "Python 3"
    },
    "language_info": {
      "name": "python"
    }
  },
  "cells": [
    {
      "cell_type": "markdown",
      "metadata": {
        "id": "view-in-github",
        "colab_type": "text"
      },
      "source": [
        "<a href=\"https://colab.research.google.com/github/edamulayimoglu/hu-bby162-2021/blob/main/final.ipynb\" target=\"_parent\"><img src=\"https://colab.research.google.com/assets/colab-badge.svg\" alt=\"Open In Colab\"/></a>"
      ]
    },
    {
      "cell_type": "code",
      "metadata": {
        "colab": {
          "base_uri": "https://localhost:8080/"
        },
        "id": "0l0IitKXSTwt",
        "outputId": "e8259b4f-0828-4ad7-b44f-b11e2dc8809b"
      },
      "source": [
        " # Kütüphane Kataloğu Otomasyon Uygulamam\n",
        " # Veri tabanı: /content/drive/MyDrive/Colab Notebooks/final.txt\n",
        "\n",
        "final = \"/content/drive/MyDrive/Colab Notebooks/final.txt\"\n",
        "\n",
        "def kitapListele():\n",
        "  acilanDosya = open(final, \"r\" )\n",
        "  for line in acilanDosya.readlines():\n",
        "    print(line)\n",
        "    acilanDosya.close() \n",
        "    \n",
        "def kitapKaydet():\n",
        "  eserAdi = input(\"Lütfen eser adını giriniz: \")\n",
        "  yazarAdi = input(\"Lütfen yazar adını giriniz: \")\n",
        "  yayinevi = input(\"Lütfen yayınevini giriniz: \")\n",
        "  basimTarihi = input(\"Lütfen basım tarihini giriniz:\" )\n",
        "  isbnNumarasi = input(\"Lütfen ISBN numarasını giriniz: \")\n",
        "  acilanDosya = open(final, \"a\" )\n",
        "  acilanDosya.write(eserAdi +\" , \" + yazarAdi  +\" , \" + yayinevi  +\" , \" + basimTarihi +\" , \" + isbnNumarasi +\"\\n\")\n",
        "  acilanDosya.close()\n",
        "\n",
        "def menu():\n",
        "  while True:\n",
        "    print(\"\\nKütüphane Kataloğuna Hoşgeldiniz!\")\n",
        "    print(\"\\nİşlem Seçiniz: \\n 1) Kitapları Listele \\n 2) Yeni Kitap Kaydet \\n 3) Çıkış Yap\")\n",
        "    secim = input(\"\\nSeçiminizi numerik olarak giriniz(1-3): \")\n",
        "    if secim == \"1\":\n",
        "      kitapListele()\n",
        "    elif secim == \"2\":\n",
        "      kitapKaydet()\n",
        "    elif secim ==\"3\":\n",
        "      print(\"\\nUygulamadan çıkmak istiyor musunuz? (E/H)\")\n",
        "      cikilsin = input()\n",
        "      if cikilsin == \"E\":\n",
        "        print(\"\\nBaşarıyla Çıkış Yapıldı. \\nİyi Günler :)\")\n",
        "        break\n",
        "    else:\n",
        "      print(\"\\n!!! Lütfen 1-3 arasında bir seçim yapınız. !!!\")\n",
        "    print(\"*\"*25)  \n",
        "menu()"
      ],
      "execution_count": null,
      "outputs": [
        {
          "output_type": "stream",
          "text": [
            "\n",
            "Kütüphane Kataloğuna Hoşgeldiniz!\n",
            "\n",
            "İşlem Seçiniz: \n",
            " 1) Kitapları Listele \n",
            " 2) Yeni Kitap Kaydet \n",
            " 3) Çıkış Yap\n",
            "\n",
            "Seçiminizi numerik olarak giriniz(1-3): 3\n",
            "\n",
            "Uygulamadan çıkmak istiyor musunuz? (E/H)\n",
            "H\n",
            "*************************\n",
            "\n",
            "Kütüphane Kataloğuna Hoşgeldiniz!\n",
            "\n",
            "İşlem Seçiniz: \n",
            " 1) Kitapları Listele \n",
            " 2) Yeni Kitap Kaydet \n",
            " 3) Çıkış Yap\n",
            "\n",
            "Seçiminizi numerik olarak giriniz(1-3): 1\n",
            "Sineklerin Tanrısı , William Golding , İş Bankası Kültür Yayınları , 2006 , 9789754582901\n",
            "\n",
            "Huzursuzluk , Zülfü Livaneli , Doğan Kitap , 2017 , 9786050939828\n",
            "\n",
            "Hayvan Çiftliği , George Orwell , Can Sanat Yayınları , 2011 , 9789750700118\n",
            "\n",
            "Dalgalar , Virginia Woolf , İletişim Yayıncılık , 2001 , 9789754709391\n",
            "\n",
            "Körlük , Jose Saramago , Kırmızı Kedi , 2017 , 9786052980811\n",
            "\n",
            "Küçük Kara Balık , Samed Behrengi , Artemis Yayınları , 2017 , 9786053043058\n",
            "\n",
            "Uçurtma Avcısı , Khaled Hosseini , Everest Yayınları , 2004 , 9789752891456\n",
            "\n",
            "Güneşi Uyandıralım , Jose Mauro De Vasconcelos , Can Yayınları , 2018 , 9789750739071\n",
            "\n",
            "Şeker Portakalı , Jose Mauro De Vasconcelos , Can Yayınları , 2020 , 9789750743108\n",
            "\n",
            "Nutuk , Mustafa Kemal Atatürk , Alfa Yayıncılık , 2017 , 9786051718583\n",
            "\n",
            "*************************\n",
            "\n",
            "Kütüphane Kataloğuna Hoşgeldiniz!\n",
            "\n",
            "İşlem Seçiniz: \n",
            " 1) Kitapları Listele \n",
            " 2) Yeni Kitap Kaydet \n",
            " 3) Çıkış Yap\n"
          ],
          "name": "stdout"
        }
      ]
    },
    {
      "cell_type": "code",
      "metadata": {
        "id": "PsX792oU17mg"
      },
      "source": [
        ""
      ],
      "execution_count": null,
      "outputs": []
    }
  ]
}